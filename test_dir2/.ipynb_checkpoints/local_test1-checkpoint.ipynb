{
 "cells": [
  {
   "cell_type": "code",
   "execution_count": 1,
   "metadata": {},
   "outputs": [],
   "source": [
    "from wpipe import *"
   ]
  },
  {
   "cell_type": "code",
   "execution_count": 3,
   "metadata": {},
   "outputs": [],
   "source": [
    "user_name,pipe_tasks_path,description = 'ben','/Users/rubab/Work/WINGS/wings_pipe/test_dir2',''\n",
    "\n",
    "myUser   = Store().select('users',''.join(('name==\"',str(user_name),'\"')))\n",
    "pipeRoot = os.getcwd()\n",
    "pipeName = os.path.basename(pipeRoot)\n",
    "softRoot = pipeRoot+'/build'\n",
    "dataRoot = pipeRoot+'/data'\n",
    "confRoot = pipeRoot+'/config'\n",
    "myPipe   = Pipeline(myUser,pipeName,softRoot,dataRoot,\n",
    "                pipeRoot,confRoot,description).create()"
   ]
  },
  {
   "cell_type": "code",
   "execution_count": 5,
   "metadata": {},
   "outputs": [],
   "source": [
    "_t = subprocess.call(['mkdir',softRoot,dataRoot,confRoot],stdout=subprocess.PIPE)"
   ]
  },
  {
   "cell_type": "code",
   "execution_count": 6,
   "metadata": {},
   "outputs": [],
   "source": [
    "taskList = os.listdir(pipe_tasks_path)"
   ]
  },
  {
   "cell_type": "code",
   "execution_count": 7,
   "metadata": {},
   "outputs": [],
   "source": [
    "for _task in taskList:\n",
    "    if '.py' in _task:\n",
    "        _t = subprocess.call(['cp',''.join((pipe_tasks_path,'/',_task)),\n",
    "                                  ''.join((softRoot,'/.'))],\n",
    "                                  stdout=subprocess.PIPE)"
   ]
  },
  {
   "cell_type": "code",
   "execution_count": 9,
   "metadata": {},
   "outputs": [
    {
     "data": {
      "text/plain": [
       "'5'"
      ]
     },
     "execution_count": 9,
     "metadata": {},
     "output_type": "execute_result"
    }
   ],
   "source": [
    "str(int(myPipe.pipeline_id))"
   ]
  },
  {
   "cell_type": "code",
   "execution_count": null,
   "metadata": {},
   "outputs": [],
   "source": []
  }
 ],
 "metadata": {
  "kernelspec": {
   "display_name": "Python 3",
   "language": "python",
   "name": "python3"
  },
  "language_info": {
   "codemirror_mode": {
    "name": "ipython",
    "version": 3
   },
   "file_extension": ".py",
   "mimetype": "text/x-python",
   "name": "python",
   "nbconvert_exporter": "python",
   "pygments_lexer": "ipython3",
   "version": "3.5.5"
  }
 },
 "nbformat": 4,
 "nbformat_minor": 2
}
