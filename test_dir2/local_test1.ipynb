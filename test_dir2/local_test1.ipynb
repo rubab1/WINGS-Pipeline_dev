{
 "cells": [
  {
   "cell_type": "code",
   "execution_count": 1,
   "metadata": {},
   "outputs": [],
   "source": [
    "from wpipe import *"
   ]
  },
  {
   "cell_type": "code",
   "execution_count": 3,
   "metadata": {},
   "outputs": [],
   "source": [
    "user_name,pipe_tasks_path,description = 'ben','/Users/rubab/Work/WINGS/wings_pipe/test_dir2',''\n",
    "\n",
    "myUser   = Store().select('users',''.join(('name==\"',str(user_name),'\"')))\n",
    "pipeRoot = os.getcwd()\n",
    "pipeName = os.path.basename(pipeRoot)\n",
    "softRoot = pipeRoot+'/build'\n",
    "dataRoot = pipeRoot+'/data'\n",
    "confRoot = pipeRoot+'/config'\n",
    "myPipe   = Pipeline(myUser,pipeName,softRoot,dataRoot,\n",
    "                pipeRoot,confRoot,description).create()"
   ]
  },
  {
   "cell_type": "code",
   "execution_count": 5,
   "metadata": {},
   "outputs": [],
   "source": [
    "_t = subprocess.call(['mkdir',softRoot,dataRoot,confRoot],stdout=subprocess.PIPE)"
   ]
  },
  {
   "cell_type": "code",
   "execution_count": 6,
   "metadata": {},
   "outputs": [],
   "source": [
    "taskList = os.listdir(pipe_tasks_path)"
   ]
  },
  {
   "cell_type": "code",
   "execution_count": 7,
   "metadata": {},
   "outputs": [],
   "source": [
    "for _task in taskList:\n",
    "    if '.py' in _task:\n",
    "        _t = subprocess.call(['cp',''.join((pipe_tasks_path,'/',_task)),\n",
    "                                  ''.join((softRoot,'/.'))],\n",
    "                                  stdout=subprocess.PIPE)"
   ]
  },
  {
   "cell_type": "code",
   "execution_count": 12,
   "metadata": {},
   "outputs": [
    {
     "name": "stdout",
     "output_type": "stream",
     "text": [
      "/Users/rubab/Work/WINGS/wings_pipe/test_dir2/build/local_test1.ipynb -R -p 5 -n local_test1.ipynb\n",
      "/Users/rubab/Work/WINGS/wings_pipe/test_dir2/build/phot_to_fitstable.py -R -p 5 -n phot_to_fitstable.py\n",
      "/Users/rubab/Work/WINGS/wings_pipe/test_dir2/build/process_catalogs.py -R -p 5 -n process_catalogs.py\n",
      "/Users/rubab/Work/WINGS/wings_pipe/test_dir2/build/config -R -p 5 -n config\n",
      "/Users/rubab/Work/WINGS/wings_pipe/test_dir2/build/sort.py -R -p 5 -n sort.py\n",
      "/Users/rubab/Work/WINGS/wings_pipe/test_dir2/build/astro_drizzle.py -R -p 5 -n astro_drizzle.py\n",
      "/Users/rubab/Work/WINGS/wings_pipe/test_dir2/build/prep_image.py -R -p 5 -n prep_image.py\n",
      "/Users/rubab/Work/WINGS/wings_pipe/test_dir2/build/__pycache__ -R -p 5 -n __pycache__\n",
      "/Users/rubab/Work/WINGS/wings_pipe/test_dir2/build/.ipynb_checkpoints -R -p 5 -n .ipynb_checkpoints\n",
      "/Users/rubab/Work/WINGS/wings_pipe/test_dir2/build/build -R -p 5 -n build\n",
      "/Users/rubab/Work/WINGS/wings_pipe/test_dir2/build/make_cmd.py -R -p 5 -n make_cmd.py\n",
      "/Users/rubab/Work/WINGS/wings_pipe/test_dir2/build/run_dolphot.py -R -p 5 -n run_dolphot.py\n",
      "/Users/rubab/Work/WINGS/wings_pipe/test_dir2/build/make_targets.py -R -p 5 -n make_targets.py\n",
      "/Users/rubab/Work/WINGS/wings_pipe/test_dir2/build/data -R -p 5 -n data\n",
      "/Users/rubab/Work/WINGS/wings_pipe/test_dir2/build/write_dolphot_pars.py -R -p 5 -n write_dolphot_pars.py\n",
      "/Users/rubab/Work/WINGS/wings_pipe/test_dir2/build/run_stips.py -R -p 5 -n run_stips.py\n",
      "/Users/rubab/Work/WINGS/wings_pipe/test_dir2/build/cull_photometry.py -R -p 5 -n cull_photometry.py\n"
     ]
    }
   ],
   "source": [
    "    for _task in taskList:\n",
    "        if _task!='wpipe.py':\n",
    "            _t = print(' '.join((''.join((softRoot,'/',_task)),'-R',\n",
    "                                  '-p',str(int(myPipe.pipeline_id)),\n",
    "                                  '-n',str(_task))))"
   ]
  },
  {
   "cell_type": "code",
   "execution_count": null,
   "metadata": {},
   "outputs": [],
   "source": []
  }
 ],
 "metadata": {
  "kernelspec": {
   "display_name": "Python 3",
   "language": "python",
   "name": "python3"
  },
  "language_info": {
   "codemirror_mode": {
    "name": "ipython",
    "version": 3
   },
   "file_extension": ".py",
   "mimetype": "text/x-python",
   "name": "python",
   "nbconvert_exporter": "python",
   "pygments_lexer": "ipython3",
   "version": "3.5.5"
  }
 },
 "nbformat": 4,
 "nbformat_minor": 2
}
